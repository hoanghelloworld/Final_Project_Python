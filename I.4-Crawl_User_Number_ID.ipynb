{
 "cells": [
  {
   "cell_type": "code",
   "execution_count": null,
   "metadata": {},
   "outputs": [],
   "source": [
    "from selenium import webdriver\n",
    "from time import sleep\n",
    "from selenium.webdriver.common.keys import Keys\n",
    "from selenium.webdriver.common.by import By\n",
    "from facebook_scraper import get_posts\n",
    "import pandas as pd\n",
    "import csv\n",
    "import facebook_scraper as fs\n",
    "import time\n",
    "from bs4 import BeautifulSoup\n",
    "import requests\n",
    "import re"
   ]
  },
  {
   "cell_type": "code",
   "execution_count": null,
   "metadata": {},
   "outputs": [],
   "source": [
    "\n",
    "def readData(fileName):\n",
    "    ''' \n",
    "    Read data from the given file\n",
    "    Mainly used to read post IDs list\n",
    "    '''\n",
    "    f = open(fileName, 'r', encoding='utf-8')\n",
    "    data = []\n",
    "    for i, line in enumerate(f):\n",
    "        try:\n",
    "            line = repr(line)\n",
    "            line = line[1:len(line) - 3]\n",
    "            data.append(line)\n",
    "        except:\n",
    "            print(\"Error writing line\")\n",
    "    return data\n"
   ]
  },
  {
   "cell_type": "code",
   "execution_count": null,
   "metadata": {},
   "outputs": [],
   "source": [
    "post_IDs = readData('Data/user_id.csv') # Chuyển data.csv thành danh sách post_IDs\n",
    "username=\"rovlit@mail1s.com\"\n",
    "password=\"ahihi123\"\n",
    "url = 'https://www.facebook.com'\n",
    "options = webdriver.ChromeOptions()\n",
    "options.add_argument(\"--disable-notifications\")\n",
    "driver = webdriver.Chrome(options=options)\n",
    "driver.get(url)\n",
    "userEmail = driver.find_element(by=\"id\", value=\"email\")\n",
    "userEmail.send_keys(username)\n",
    "userPass = driver.find_element(by=\"id\", value=\"pass\")\n",
    "userPass.send_keys(password)\n",
    "userPass.send_keys(Keys.ENTER)\n",
    "time.sleep(10)\n",
    "list_ids = []\n",
    "\n",
    "for post_id in post_IDs:\n",
    "    driver.get(f\"https://www.facebook.com/{post_id}\")\n",
    "\n",
    "    pageContent = driver.page_source\n",
    "\n",
    "    soup = BeautifulSoup(pageContent, 'html.parser')\n",
    "\n",
    "    string = soup.prettify()\n",
    "    ids = re.findall(r'\"profile_owner\":{\"id\":\"(\\d+)\"', string)\n",
    "    if not ids :\n",
    "        continue\n",
    "    else :\n",
    "        list_ids.append(ids[0])\n",
    "        print(ids[0])\n",
    "\n",
    "df=pd.DataFrame(list_ids)\n",
    "df.to_csv('Data/post_number_id.csv', mode='a', header=False, index=False)"
   ]
  }
 ],
 "metadata": {
  "kernelspec": {
   "display_name": "Python 3",
   "language": "python",
   "name": "python3"
  },
  "language_info": {
   "codemirror_mode": {
    "name": "ipython",
    "version": 3
   },
   "file_extension": ".py",
   "mimetype": "text/x-python",
   "name": "python",
   "nbconvert_exporter": "python",
   "pygments_lexer": "ipython3",
   "version": "3.11.4"
  }
 },
 "nbformat": 4,
 "nbformat_minor": 2
}
